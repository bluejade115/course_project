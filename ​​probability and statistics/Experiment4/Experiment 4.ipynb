{
 "cells": [
  {
   "cell_type": "markdown",
   "id": "f8a6d2e2",
   "metadata": {
    "nbgrader": {
     "grade": false,
     "locked": false,
     "solution": false
    }
   },
   "source": [
    "<font size=\"4\" style=\"color:red;\"> **IMPORTANT: ** When submitting this homework notebook, please modify only the cells that start with:</font>\n",
    "\n",
    "```python\n",
    "# modify this cell\n",
    "```"
   ]
  },
  {
   "cell_type": "markdown",
   "id": "fbd83114",
   "metadata": {},
   "source": [
    "# WenHua Honors Class ---- Probability & Statistics"
   ]
  },
  {
   "cell_type": "markdown",
   "id": "e01242a3",
   "metadata": {},
   "source": [
    "# Experiment 4"
   ]
  },
  {
   "cell_type": "markdown",
   "id": "69ae70da",
   "metadata": {},
   "source": [
    "## 1. Experimental Purposes"
   ]
  },
  {
   "cell_type": "markdown",
   "id": "d01a43cb",
   "metadata": {},
   "source": [
    "* Familiar with the central limit theorem.\n",
    "* Understand the implementation of the central limit theorem in python.\n",
    "* Know how to visualize data in different distributions."
   ]
  },
  {
   "cell_type": "markdown",
   "id": "6b684592",
   "metadata": {},
   "source": [
    "## 2. Background Information"
   ]
  },
  {
   "cell_type": "markdown",
   "id": "8354ae82",
   "metadata": {},
   "source": [
    "The Central Limit Theorem (CLT) is often referred to as one of the most important theorems, not only in probability & statistics but also in the sciences as a whole. In this lecture, we will try to understand the essence of the Central Limit Theorem with simulations in Python."
   ]
  },
  {
   "cell_type": "markdown",
   "id": "3d8bcaa1",
   "metadata": {},
   "source": [
    "### 2.1 Samples and the Sampling Distribution"
   ]
  },
  {
   "cell_type": "markdown",
   "id": "0ae078f6",
   "metadata": {},
   "source": [
    "Before we get to the theorem itself, it is first essential to understand the building blocks and the context. The main goal of **inferential statistics** is to draw inferences about a given population, using only its subset, which is called the **sample**."
   ]
  },
  {
   "cell_type": "markdown",
   "id": "49698c25",
   "metadata": {},
   "source": [
    "We do so because generally, the parameters which define the distribution of the population, such as the population mean $\\mu$ and the population variance $\\sigma^{2}$, are not known."
   ]
  },
  {
   "cell_type": "markdown",
   "id": "22597dcd",
   "metadata": {},
   "source": [
    "In such situations, a sample is typically collected in a random fashion, and the information gathered from it is then used to derive estimates for the entire population."
   ]
  },
  {
   "cell_type": "markdown",
   "id": "15ec32d9",
   "metadata": {},
   "source": [
    "The above-mentioned approach is both time-efficient and cost-effective for researchers conducting the analysis. It is important that the sample is a good representation of the population, in order to generalize the inferences drawn from the sample to the population in any meaningful way."
   ]
  },
  {
   "cell_type": "markdown",
   "id": "cea4c0a4",
   "metadata": {},
   "source": [
    "The challenge is that being a subset, the sample estimates are hence prone to error! That is, they may not reflect the population accurately."
   ]
  },
  {
   "cell_type": "markdown",
   "id": "08266215",
   "metadata": {},
   "source": [
    "For example, if we are trying to estimate the population mean ($\\mu$) using a sample mean ($\\bar x$), then depending on which observations land in the sample, we might get different estimates of the population with varying levels of errors."
   ]
  },
  {
   "cell_type": "markdown",
   "id": "c622da47",
   "metadata": {},
   "source": [
    "### 2.2 What is the Central Limit Theorem?"
   ]
  },
  {
   "cell_type": "markdown",
   "id": "c36ac6cc",
   "metadata": {},
   "source": [
    "The key point here is that the sample mean itself is a random variable, which is dependent on the sample observations."
   ]
  },
  {
   "cell_type": "markdown",
   "id": "40072c21",
   "metadata": {},
   "source": [
    "Like any other random variable in statistics, the sample mean ($\\bar x$) also has a probability distribution, which shows the probability densities for different values of the sample mean."
   ]
  },
  {
   "cell_type": "markdown",
   "id": "99141c7a",
   "metadata": {},
   "source": [
    "This distribution is often referred to as the 'sampling distribution'. The following diagram summarizes this point visually:"
   ]
  },
  {
   "cell_type": "markdown",
   "id": "f2b12eb0",
   "metadata": {},
   "source": [
    "<img style=\"width:973px;height:599px\" src=\"figs/sampling-distribution-diagram.png\">"
   ]
  },
  {
   "cell_type": "markdown",
   "id": "5b7b5730",
   "metadata": {},
   "source": [
    "The Central Limit Theorem (CLT) essentially is a statement about the nature of the sampling distribution of the sample mean under some specific condition, which we will discuss in the next section."
   ]
  },
  {
   "cell_type": "markdown",
   "id": "1fb9c8f2",
   "metadata": {},
   "source": [
    "### 2.3 Central Limit Theorem - Statement & Assumptions"
   ]
  },
  {
   "cell_type": "markdown",
   "id": "7847a0cb",
   "metadata": {},
   "source": [
    "Suppose $X$ is a random variable (not necessarily normally distributed) representing the population data, and the distribution of $X$, has a mean of $\\mu$ and standard deviation $\\sigma$. Suppose we are repeatly drawing samples of size $n$ from the above population."
   ]
  },
  {
   "cell_type": "markdown",
   "id": "068da3c4",
   "metadata": {},
   "source": [
    "Then, the Central Limit Theorem states that given a high enough sample size, the following properties hold true:\n",
    "* Sampling distribution's mean = Population mean ($\\mu$), and\n",
    "* Sampling distribution's standard deviation (standard error) = $\\sigma/\\sqrt{n}$, such that\n",
    "* for n ≥ 50, the sampling distribution tends to a normal distribution for all practical purposes."
   ]
  },
  {
   "cell_type": "markdown",
   "id": "078d4479",
   "metadata": {},
   "source": [
    "In other words, for a large $n$, "
   ]
  },
  {
   "cell_type": "markdown",
   "id": "0c1e337c",
   "metadata": {},
   "source": [
    "$$\\bar{x}\\longrightarrow\\mathbb{N}\\left(\\mu,\\frac{\\sigma}{\\sqrt{n}}\\right)$$"
   ]
  },
  {
   "cell_type": "markdown",
   "id": "d66a6a81",
   "metadata": {},
   "source": [
    "In the next section, we will try to understand the workings of the CLT with the help of some simulation excercises in Python."
   ]
  },
  {
   "cell_type": "markdown",
   "id": "30568273",
   "metadata": {},
   "source": [
    "## 3. Experimental Requirements"
   ]
  },
  {
   "cell_type": "markdown",
   "id": "c8a414ac",
   "metadata": {},
   "source": [
    "### 3.1 Demonstration of CLT in action using simulations in Python"
   ]
  },
  {
   "cell_type": "markdown",
   "id": "b105f008",
   "metadata": {},
   "source": [
    "The main point demonstrated in this section will be that for a population following any distribution, the sampling distribution (sample mean's distribution) will tend to be normally distributed for large enough sample size."
   ]
  },
  {
   "cell_type": "markdown",
   "id": "b823e941",
   "metadata": {},
   "source": [
    "We will consider two experiments and check whether the CLT holds.\n",
    "* Experiment 1 - Exponentially distributed population\n",
    "* Experiment 2 - Binomially distributed population"
   ]
  },
  {
   "cell_type": "markdown",
   "id": "36ee1c0a",
   "metadata": {},
   "source": [
    "#### 3.1.1 Experiment 1 - Exponentially distributed population"
   ]
  },
  {
   "cell_type": "markdown",
   "id": "92feaae7",
   "metadata": {},
   "source": [
    "Suppose we are dealing with a population which is exponentially distributed. Exponential distribution is a continuous distribution that is often used to model the expected time one needs to wait before the occurrence of an event."
   ]
  },
  {
   "cell_type": "markdown",
   "id": "7c05250d",
   "metadata": {},
   "source": [
    "The main parameter of exponential distribution is the 'rate' parameter $1/\\theta$, such that both the mean and the standard deviation of the distribution are given by $\\theta$."
   ]
  },
  {
   "cell_type": "markdown",
   "id": "139f6cee",
   "metadata": {},
   "source": [
    "The following represents our exponentially distributed population:"
   ]
  },
  {
   "cell_type": "markdown",
   "id": "1195fe89",
   "metadata": {},
   "source": [
    "<img style=\"float: left;width:370px;height:228px\" src=\"figs/exponentially-distributed-population.png\">"
   ]
  },
  {
   "cell_type": "markdown",
   "id": "52dc6b49",
   "metadata": {},
   "source": [
    "$f(x) = \\cases{\\frac{1}{\\theta} e^{-\\frac{x}{\\theta}} & if $x> 0$\\cr0 & \\text{otherwise}}$"
   ]
  },
  {
   "cell_type": "markdown",
   "id": "0287d696",
   "metadata": {},
   "source": [
    "$ f(x) = \\begin{cases} \n",
    "\\frac{1}{\\theta} e^{-\\frac{x}{\\theta}} & \\text{if } x > 0 \\\\\n",
    "0 & \\text{otherwise}\n",
    "\\end{cases} $"
   ]
  },
  {
   "cell_type": "markdown",
   "id": "8b6f5ec6",
   "metadata": {},
   "source": [
    "We can see that the distribution of our population is far from normal! In the following code, assuming that $\\theta=4$, **please calculate the mean and the standard deviation of the population**."
   ]
  },
  {
   "cell_type": "code",
   "execution_count": 1,
   "id": "09ec54fa",
   "metadata": {},
   "outputs": [
    {
     "name": "stdout",
     "output_type": "stream",
     "text": [
      "Population mean: 4.0\n",
      "Population standard deviation: 4.0\n"
     ]
    }
   ],
   "source": [
    "# modify this cell\n",
    "\n",
    "# Importing necessary libraries\n",
    "import warnings\n",
    "warnings.filterwarnings('ignore')\n",
    "import pandas as pd, numpy as np\n",
    "import matplotlib.pyplot as plt \n",
    "%matplotlib inline\n",
    "import seaborn as sns\n",
    "\n",
    "\n",
    "# rate parameter for the exponentially distributed population\n",
    "theta = 4.0\n",
    "\n",
    "# Population mean (mu), representing mean by parameter theta\n",
    "\n",
    "#\n",
    "# YOUR CODE HERE\n",
    "# Define PDF of the population\n",
    "def PDF_population(x, theta):\n",
    "    if x <=0:\n",
    "        return None\n",
    "    else:\n",
    "        return (1/theta)*np.exp(-x/theta)\n",
    "mu = theta\n",
    "#\n",
    "\n",
    "# Population standard deviation (sd), representing sd by parameter theta\n",
    "\n",
    "#\n",
    "# YOUR CODE HERE\n",
    "# standard deviation is equal to theta\n",
    "sd = theta\n",
    "#\n",
    "\n",
    "print('Population mean:', mu)\n",
    "print('Population standard deviation:', sd)\n",
    "\n",
    "assert mu == 4.0\n",
    "assert sd == 4.0"
   ]
  },
  {
   "cell_type": "markdown",
   "id": "416a587e",
   "metadata": {},
   "source": [
    "Now we want to see how the sampling distribution looks for this population. We will consider two cases, i.e., with a small sample size ($n= 2$), and a large sample size ($n=500$)."
   ]
  },
  {
   "cell_type": "markdown",
   "id": "ab52c4d5",
   "metadata": {},
   "source": [
    "First, we will draw 50 random samples (each of size 2) from our population."
   ]
  },
  {
   "cell_type": "code",
   "execution_count": 2,
   "id": "82214d92",
   "metadata": {},
   "outputs": [
    {
     "data": {
      "text/html": [
       "<div>\n",
       "<style scoped>\n",
       "    .dataframe tbody tr th:only-of-type {\n",
       "        vertical-align: middle;\n",
       "    }\n",
       "\n",
       "    .dataframe tbody tr th {\n",
       "        vertical-align: top;\n",
       "    }\n",
       "\n",
       "    .dataframe thead th {\n",
       "        text-align: right;\n",
       "    }\n",
       "</style>\n",
       "<table border=\"1\" class=\"dataframe\">\n",
       "  <thead>\n",
       "    <tr style=\"text-align: right;\">\n",
       "      <th></th>\n",
       "      <th>sample 1</th>\n",
       "      <th>sample 2</th>\n",
       "      <th>sample 3</th>\n",
       "      <th>sample 4</th>\n",
       "      <th>sample 5</th>\n",
       "      <th>sample 6</th>\n",
       "      <th>sample 7</th>\n",
       "      <th>sample 8</th>\n",
       "      <th>sample 9</th>\n",
       "      <th>sample 10</th>\n",
       "      <th>...</th>\n",
       "      <th>sample 41</th>\n",
       "      <th>sample 42</th>\n",
       "      <th>sample 43</th>\n",
       "      <th>sample 44</th>\n",
       "      <th>sample 45</th>\n",
       "      <th>sample 46</th>\n",
       "      <th>sample 47</th>\n",
       "      <th>sample 48</th>\n",
       "      <th>sample 49</th>\n",
       "      <th>sample 50</th>\n",
       "    </tr>\n",
       "  </thead>\n",
       "  <tbody>\n",
       "    <tr>\n",
       "      <th>x1</th>\n",
       "      <td>4.469777</td>\n",
       "      <td>14.319776</td>\n",
       "      <td>1.218052</td>\n",
       "      <td>5.131902</td>\n",
       "      <td>1.369098</td>\n",
       "      <td>6.389839</td>\n",
       "      <td>4.833206</td>\n",
       "      <td>35.812190</td>\n",
       "      <td>1.978060</td>\n",
       "      <td>3.640635</td>\n",
       "      <td>...</td>\n",
       "      <td>5.949214</td>\n",
       "      <td>1.322827</td>\n",
       "      <td>9.281751</td>\n",
       "      <td>0.057326</td>\n",
       "      <td>12.444380</td>\n",
       "      <td>4.203873</td>\n",
       "      <td>5.722381</td>\n",
       "      <td>6.861147</td>\n",
       "      <td>4.02849</td>\n",
       "      <td>5.908760</td>\n",
       "    </tr>\n",
       "    <tr>\n",
       "      <th>x2</th>\n",
       "      <td>1.186249</td>\n",
       "      <td>6.258672</td>\n",
       "      <td>6.285758</td>\n",
       "      <td>0.448193</td>\n",
       "      <td>1.106092</td>\n",
       "      <td>2.965669</td>\n",
       "      <td>10.914020</td>\n",
       "      <td>3.789999</td>\n",
       "      <td>1.619205</td>\n",
       "      <td>5.622528</td>\n",
       "      <td>...</td>\n",
       "      <td>4.211999</td>\n",
       "      <td>3.927048</td>\n",
       "      <td>8.244865</td>\n",
       "      <td>8.187271</td>\n",
       "      <td>0.379061</td>\n",
       "      <td>2.708561</td>\n",
       "      <td>5.567896</td>\n",
       "      <td>7.017074</td>\n",
       "      <td>0.08660</td>\n",
       "      <td>5.973665</td>\n",
       "    </tr>\n",
       "  </tbody>\n",
       "</table>\n",
       "<p>2 rows × 50 columns</p>\n",
       "</div>"
      ],
      "text/plain": [
       "    sample 1   sample 2  sample 3  sample 4  sample 5  sample 6   sample 7  \\\n",
       "x1  4.469777  14.319776  1.218052  5.131902  1.369098  6.389839   4.833206   \n",
       "x2  1.186249   6.258672  6.285758  0.448193  1.106092  2.965669  10.914020   \n",
       "\n",
       "     sample 8  sample 9  sample 10  ...  sample 41  sample 42  sample 43  \\\n",
       "x1  35.812190  1.978060   3.640635  ...   5.949214   1.322827   9.281751   \n",
       "x2   3.789999  1.619205   5.622528  ...   4.211999   3.927048   8.244865   \n",
       "\n",
       "    sample 44  sample 45  sample 46  sample 47  sample 48  sample 49  \\\n",
       "x1   0.057326  12.444380   4.203873   5.722381   6.861147    4.02849   \n",
       "x2   8.187271   0.379061   2.708561   5.567896   7.017074    0.08660   \n",
       "\n",
       "    sample 50  \n",
       "x1   5.908760  \n",
       "x2   5.973665  \n",
       "\n",
       "[2 rows x 50 columns]"
      ]
     },
     "execution_count": 2,
     "metadata": {},
     "output_type": "execute_result"
    }
   ],
   "source": [
    "# drawing 50 random samples of size 2 from the exponentially distributed population\n",
    "sample_size = 2\n",
    "df2 = pd.DataFrame(index= ['x1', 'x2'])\n",
    "\n",
    "for i in range(1, 51):\n",
    "    exponential_sample = np.random.exponential(theta, sample_size)\n",
    "    col = f'sample {i}'\n",
    "    df2[col] = exponential_sample\n",
    "\n",
    "# Taking a peek at the samples\n",
    "df2"
   ]
  },
  {
   "cell_type": "markdown",
   "id": "105ad237",
   "metadata": {},
   "source": [
    "For each of the 50 samples, we can calculate the sample mean and plot its distribution as follows:"
   ]
  },
  {
   "cell_type": "code",
   "execution_count": 3,
   "id": "14ccac89",
   "metadata": {
    "scrolled": true
   },
   "outputs": [
    {
     "data": {
      "text/plain": [
       "<Axes: ylabel='Density'>"
      ]
     },
     "execution_count": 3,
     "metadata": {},
     "output_type": "execute_result"
    },
    {
     "data": {
      "image/png": "[encoded data removed]",
      "text/plain": [
       "<Figure size 640x480 with 1 Axes>"
      ]
     },
     "metadata": {},
     "output_type": "display_data"
    }
   ],
   "source": [
    "# Calculating sample means and plotting their distribution\n",
    "df2_sample_means = df2.mean()\n",
    "sns.distplot(df2_sample_means)"
   ]
  },
  {
   "cell_type": "markdown",
   "id": "1b2bbfe5",
   "metadata": {},
   "source": [
    "We can observe that even for a small sample size such as 2, the distribution of sample means looks very different from that of the exponential population, and looks more like a poor approximation of a normal distribution, with some positive skew."
   ]
  },
  {
   "cell_type": "markdown",
   "id": "de105b18",
   "metadata": {},
   "source": [
    "In case 2, we will repeat the above process, but with a much larger sample size ($n=500$):"
   ]
  },
  {
   "cell_type": "code",
   "execution_count": 4,
   "id": "3b81ccc6",
   "metadata": {},
   "outputs": [
    {
     "data": {
      "text/plain": [
       "<Axes: ylabel='Density'>"
      ]
     },
     "execution_count": 4,
     "metadata": {},
     "output_type": "execute_result"
    },
    {
     "data": {
      "image/png": "[encoded data removed]",
      "text/plain": [
       "<Figure size 640x480 with 1 Axes>"
      ]
     },
     "metadata": {},
     "output_type": "display_data"
    }
   ],
   "source": [
    "# modify this cell\n",
    "\n",
    "# Please refer to the previous example to draw 50 random samples of size 500\n",
    "# Tips: You can use the \"np.random.exponential\" function to implement a exponential distribution.\n",
    "# set parameter\n",
    "sample_size = 500\n",
    "sample_list = ['x{i}' for i in range(1,501)]\n",
    "df500 = pd.DataFrame(index= sample_list)\n",
    "# drawing 50 random samples\n",
    "for i in range(1, 51):\n",
    "    exponential_sample = np.random.exponential(theta, sample_size)\n",
    "    col = f'sample {i}'\n",
    "    df500[col] = exponential_sample\n",
    "\n",
    "#\n",
    "# YOUR CODE HERE\n",
    "# Taking a peek at the samples\n",
    "df500\n",
    "df500_sample_means = df500.mean()\n",
    "sns.distplot(df500_sample_means)\n",
    "#"
   ]
  },
  {
   "cell_type": "markdown",
   "id": "bc595ea1",
   "metadata": {},
   "source": [
    "The sampling distribution looks much more like a normal distribution now as we have sampled with a much larger sample size ($n=500$)."
   ]
  },
  {
   "cell_type": "markdown",
   "id": "a04f0b84",
   "metadata": {},
   "source": [
    "Let us now check the mean and the standard deviation of the 50 sample means:"
   ]
  },
  {
   "cell_type": "code",
   "execution_count": 5,
   "id": "1abc6952",
   "metadata": {},
   "outputs": [
    {
     "data": {
      "text/plain": [
       "sample 1    4.275843\n",
       "sample 2    3.969527\n",
       "sample 3    4.126658\n",
       "sample 4    4.156968\n",
       "sample 5    4.064573\n",
       "dtype: float64"
      ]
     },
     "execution_count": 5,
     "metadata": {},
     "output_type": "execute_result"
    }
   ],
   "source": [
    "#The first 5 values from the 50 sample means\n",
    "df500_sample_means.head()"
   ]
  },
  {
   "cell_type": "markdown",
   "id": "bfdebb18",
   "metadata": {},
   "source": [
    "We can observe that the mean of all the sample means is quite close to the population mean ($\\mu = 4$)."
   ]
  },
  {
   "cell_type": "markdown",
   "id": "96d149fb",
   "metadata": {},
   "source": [
    "Similarly, we can observe that the standard deviation of the 50 sample means is quite close to the value stated by the CLT, i.e., $(\\sigma/ \\sqrt{n}) = 0.178$."
   ]
  },
  {
   "cell_type": "code",
   "execution_count": 6,
   "id": "28aaeeb8",
   "metadata": {},
   "outputs": [
    {
     "name": "stdout",
     "output_type": "stream",
     "text": [
      "the mean is 4.037894385147282\n",
      "the standard deviation is 0.19021903661705197\n"
     ]
    }
   ],
   "source": [
    "# modify this cell\n",
    "\n",
    "# An estimate of the standard deviation of the sampling distribution can be obtained as:\n",
    "\n",
    "#\n",
    "# YOUR CODE HERE\n",
    "# calculate the mean\n",
    "mu_df500 = 0.0\n",
    "for i in range(0,50):\n",
    "    mu_df500 +=  df500_sample_means[i]\n",
    "mu_df500 /= 50\n",
    "print(\"the mean is\",mu_df500)\n",
    "# calculate the standard deviation\n",
    "sd_df500 = 0.0\n",
    "for i in range(0,50):\n",
    "    sd_df500 += (mu_df500-df500_sample_means[i])**2\n",
    "sd_df500 /= 50\n",
    "sd_df500 **= 0.5\n",
    "print(\"the standard deviation is\",sd_df500)\n",
    "#"
   ]
  },
  {
   "cell_type": "code",
   "execution_count": 7,
   "id": "e1776d1f",
   "metadata": {},
   "outputs": [
    {
     "data": {
      "text/plain": [
       "0.17888543819998318"
      ]
     },
     "execution_count": 7,
     "metadata": {},
     "output_type": "execute_result"
    }
   ],
   "source": [
    "# If you calculate correctly, the above value is very close to the value stated by the CLT, which is:\n",
    "sd/np.sqrt(sample_size)"
   ]
  },
  {
   "cell_type": "markdown",
   "id": "56fa5566",
   "metadata": {},
   "source": [
    "Thus, we observe that the mean of all sample means is very close in value to the population mean itself."
   ]
  },
  {
   "cell_type": "markdown",
   "id": "66bd97ea",
   "metadata": {},
   "source": [
    "Also, we can observe that as we increased the sample size from 2 to 500, the distribution of sample means increasingly starts resembling a normal distribution, with mean given by the population mean $\\mu$ and the standard deviation given by $(\\sigma / \\sqrt{n})$ , as stated by the Central Limit Theorem."
   ]
  },
  {
   "cell_type": "markdown",
   "id": "ae51268b",
   "metadata": {},
   "source": [
    "#### 3.2 Experiment 2 -  Binomially distributed population"
   ]
  },
  {
   "cell_type": "markdown",
   "id": "b81821ef",
   "metadata": {},
   "source": [
    "In the previous example, we knew that the population is exponentially distributed with parameter $\\theta=4$."
   ]
  },
  {
   "cell_type": "markdown",
   "id": "75b9c466",
   "metadata": {},
   "source": [
    "Now you might wonder what would happen to the sampling distribution if we had a population which followed some other distribution say, Binomial distribution for example."
   ]
  },
  {
   "cell_type": "markdown",
   "id": "d42a8142",
   "metadata": {},
   "source": [
    "*Would the sampling distribution still resemble the normal distribution for large sample sizes as stated by the CLT?*"
   ]
  },
  {
   "cell_type": "markdown",
   "id": "091045e0",
   "metadata": {},
   "source": [
    "Let's test it out. The following represents our Binomially distributed population (recall that Binomial is a discrete distribution and hence we produce the probability mass function below):"
   ]
  },
  {
   "cell_type": "markdown",
   "id": "991a3a8c",
   "metadata": {},
   "source": [
    "<img style=\"float: left;width:329px;height:243px\" src=\"figs/probability-function-clt.png\">"
   ]
  },
  {
   "cell_type": "markdown",
   "id": "9cc634b5",
   "metadata": {},
   "source": [
    "$P(x) = \\cases{\\binom k x (p)^x(1-p)^{1-x} & if $x = 0, 1, 2,..., k$ \\cr0 & \\text{otherwise}}$"
   ]
  },
  {
   "cell_type": "markdown",
   "id": "5cfe221a",
   "metadata": {},
   "source": [
    "$ P(X = x) = \\begin{cases} \n",
    "\\binom{k}{x} p^x (1-p)^{k-x} & \\text{if } x = 0, 1, 2, \\ldots, k \\\\\n",
    "0 & \\text{otherwise}\n",
    "\\end{cases} $"
   ]
  },
  {
   "cell_type": "markdown",
   "id": "97641e9a",
   "metadata": {},
   "source": [
    "where, $0\\leq p\\leq 1$"
   ]
  },
  {
   "cell_type": "markdown",
   "id": "a278d7e3",
   "metadata": {},
   "source": [
    "As before, we follow a similar approach and plot the sampling distribution obtained with a large sample size ($n = 500$) for a Binomially distributed variable with parameters $k = 30$ and $p = 0.9$"
   ]
  },
  {
   "cell_type": "code",
   "execution_count": 8,
   "id": "c013bc30",
   "metadata": {},
   "outputs": [
    {
     "data": {
      "text/plain": [
       "<Axes: ylabel='Density'>"
      ]
     },
     "execution_count": 8,
     "metadata": {},
     "output_type": "execute_result"
    },
    {
     "data": {
      "image/png": "[encoded data removed]",
      "text/plain": [
       "<Figure size 640x480 with 1 Axes>"
      ]
     },
     "metadata": {},
     "output_type": "display_data"
    }
   ],
   "source": [
    "# # modify this cell\n",
    "\n",
    "# # drawing 50 random samples of size 500 from a Binomial distribution with parameters k= 30 and p=0.9\n",
    "# # Tips: You can use the \"np.random.binomial\" function to implement a binomial distribution.\n",
    "\n",
    "\n",
    "# #\n",
    "# # YOUR CODE HERE\n",
    "# set parameter\n",
    "binomial_sample_size = 500\n",
    "k = 30 \n",
    "p = 0.9\n",
    "binomial_sample_list = ['x{i}' for i in range(1,binomial_sample_size+1)]\n",
    "bino500 = pd.DataFrame(index= binomial_sample_list)\n",
    "# drawing 50 random samples\n",
    "for i in range(1, 51):\n",
    "    binomial_sample = np.random.binomial(k,p, binomial_sample_size)\n",
    "    col = f'sample {i}'\n",
    "    bino500[col] = binomial_sample\n",
    "\n",
    "bino500\n",
    "#calculate the mean\n",
    "bino500_sample_means = bino500.mean()\n",
    "sns.distplot(bino500_sample_means)\n",
    "# #"
   ]
  },
  {
   "cell_type": "markdown",
   "id": "626975d2",
   "metadata": {},
   "source": [
    "For this experiment, as we assumed that our population follows a Binomial distribution with parameters $k = 30$ and $p = 0.9$"
   ]
  },
  {
   "cell_type": "markdown",
   "id": "5f7e7328",
   "metadata": {},
   "source": [
    "Which means if CLT were to hold, the sampling distribution should be approximately normal with mean = population mean = $\\mu= 27$ and standard deviation = $\\sigma/\\sqrt{n} = 0.0734$."
   ]
  },
  {
   "cell_type": "code",
   "execution_count": 9,
   "id": "cacb0e33",
   "metadata": {},
   "outputs": [
    {
     "name": "stdout",
     "output_type": "stream",
     "text": [
      "the mean is 26.980959999999993\n"
     ]
    }
   ],
   "source": [
    "# modify this cell\n",
    "\n",
    "# Please compute the mean of sample means. If you calculate correctly, mean of sample means is close to the population mean.\n",
    "\n",
    "#\n",
    "# YOUR CODE HERE\n",
    "# the mean\n",
    "mu_bino = 0.0\n",
    "# calculate the mean\n",
    "for i in range(0,50):\n",
    "    mu_bino += bino500_sample_means[i]\n",
    "mu_bino /= 50\n",
    "print(\"the mean is\",mu_bino)\n",
    "#"
   ]
  },
  {
   "cell_type": "code",
   "execution_count": 10,
   "id": "e98d6b93",
   "metadata": {},
   "outputs": [
    {
     "name": "stdout",
     "output_type": "stream",
     "text": [
      "the standard deviation is 0.07249302311257277\n"
     ]
    }
   ],
   "source": [
    "# modify this cell\n",
    "\n",
    "# Please compute the standard deviation of sample means. If you calculate correctly, standard deviation of sample means is close to population standard deviation divided by square root of sample size.\n",
    "\n",
    "#\n",
    "# YOUR CODE HERE\n",
    "# standard deviation \n",
    "sd_bino =0.0 \n",
    "# calculate the standard deviation \n",
    "for i in range(0,50):\n",
    "    sd_bino += (mu_bino-bino500_sample_means[i])**2\n",
    "sd_bino /= 50\n",
    "sd_bino **= 0.5\n",
    "print(\"the standard deviation is\",sd_bino)\n",
    "#"
   ]
  },
  {
   "cell_type": "markdown",
   "id": "785e4808",
   "metadata": {},
   "source": [
    "And the CLT holds again, as can be seen in the above results."
   ]
  },
  {
   "cell_type": "markdown",
   "id": "086f3675",
   "metadata": {},
   "source": [
    "The sampling distribution for a Binomially distributed population also tends to a normal distribution with mean $\\mu$ and standard deviation $\\sigma/\\sqrt{n}$ for large sample size."
   ]
  },
  {
   "cell_type": "markdown",
   "id": "1f26673c",
   "metadata": {},
   "source": [
    "## 3.2 An Application of CLT in Investing/Trading"
   ]
  },
  {
   "cell_type": "markdown",
   "id": "ac34fa7c",
   "metadata": {},
   "source": [
    "### 3.2.1 The Challenge for Investors"
   ]
  },
  {
   "cell_type": "markdown",
   "id": "3c8e4078",
   "metadata": {},
   "source": [
    "A common challenge that an investor faces is to determine whether a stock is likely to meet her investing goals. For example, consider Jyoti, who is looking to invest in a safe stock for the next five years."
   ]
  },
  {
   "cell_type": "markdown",
   "id": "d47c7069",
   "metadata": {},
   "source": [
    "Being a risk averse investor, she would only feel comfortable to invest in a stock if it gives preferably non-negative monthly returns on average and where she can be reasonably confident that her average monthly return will not be less than -0.5%."
   ]
  },
  {
   "cell_type": "markdown",
   "id": "a3146efc",
   "metadata": {},
   "source": [
    "Jyoti is very interested in the ITC (NSE: ITC) stock, but wants to make sure that it meets her criterion. In such a case, *is there some theoretical/statistical framework which can help her to reach a conclusion about the average monthly return of the ITC stock with some confidence?*"
   ]
  },
  {
   "cell_type": "markdown",
   "id": "bb894134",
   "metadata": {},
   "source": [
    "The answer is yes! And such a statistical framework is based on the assumption of the return distribution, which in turn is based on the Central Limit Theorem (CLT)."
   ]
  },
  {
   "cell_type": "markdown",
   "id": "d4daaa0a",
   "metadata": {},
   "source": [
    "In the next section, we start conducting our analysis on the ITC stock data."
   ]
  },
  {
   "cell_type": "markdown",
   "id": "310f11bc",
   "metadata": {},
   "source": [
    "### 3.2.2 The Great Assumption of Normality in Finance"
   ]
  },
  {
   "cell_type": "markdown",
   "id": "256e5492",
   "metadata": {},
   "source": [
    "In finance models (like the Black-Scholes option pricing model), we usually assume that the price series is log-normally distributed, and so returns are normally distributed."
   ]
  },
  {
   "cell_type": "markdown",
   "id": "b3e1d9e6",
   "metadata": {},
   "source": [
    "And so for investors and traders, who use these models to invest or trade in the market, a lot depends on whether or not the assumption of normality actually holds in the markets."
   ]
  },
  {
   "cell_type": "markdown",
   "id": "485d564c",
   "metadata": {},
   "source": [
    "Let us check it out for the ITC (NSE: ITC) stock in which Jyoti is interested. To conduct the analysis, we first import some standard Python libraries and fetch the daily Close-Close ITC stock data from the yfinance library."
   ]
  },
  {
   "cell_type": "markdown",
   "id": "91f36741",
   "metadata": {},
   "source": [
    "**Please try to do a visual analysis of the distribution of daily returns.**"
   ]
  },
  {
   "cell_type": "code",
   "execution_count": 11,
   "id": "6eb831fa",
   "metadata": {},
   "outputs": [
    {
     "data": {
      "text/html": [
       "<div>\n",
       "<style scoped>\n",
       "    .dataframe tbody tr th:only-of-type {\n",
       "        vertical-align: middle;\n",
       "    }\n",
       "\n",
       "    .dataframe tbody tr th {\n",
       "        vertical-align: top;\n",
       "    }\n",
       "\n",
       "    .dataframe thead th {\n",
       "        text-align: right;\n",
       "    }\n",
       "</style>\n",
       "<table border=\"1\" class=\"dataframe\">\n",
       "  <thead>\n",
       "    <tr style=\"text-align: right;\">\n",
       "      <th></th>\n",
       "      <th>Date</th>\n",
       "      <th>Adj Close</th>\n",
       "      <th>daily_return</th>\n",
       "    </tr>\n",
       "  </thead>\n",
       "  <tbody>\n",
       "    <tr>\n",
       "      <th>1</th>\n",
       "      <td>2010/1/5</td>\n",
       "      <td>65.9113</td>\n",
       "      <td>0.009808</td>\n",
       "    </tr>\n",
       "    <tr>\n",
       "      <th>2</th>\n",
       "      <td>2010/1/6</td>\n",
       "      <td>66.0656</td>\n",
       "      <td>0.002338</td>\n",
       "    </tr>\n",
       "    <tr>\n",
       "      <th>3</th>\n",
       "      <td>2010/1/7</td>\n",
       "      <td>65.8598</td>\n",
       "      <td>-0.003120</td>\n",
       "    </tr>\n",
       "    <tr>\n",
       "      <th>4</th>\n",
       "      <td>2010/1/8</td>\n",
       "      <td>66.0013</td>\n",
       "      <td>0.002146</td>\n",
       "    </tr>\n",
       "    <tr>\n",
       "      <th>5</th>\n",
       "      <td>2010/1/11</td>\n",
       "      <td>66.0270</td>\n",
       "      <td>0.000389</td>\n",
       "    </tr>\n",
       "  </tbody>\n",
       "</table>\n",
       "</div>"
      ],
      "text/plain": [
       "        Date  Adj Close  daily_return\n",
       "1   2010/1/5    65.9113      0.009808\n",
       "2   2010/1/6    66.0656      0.002338\n",
       "3   2010/1/7    65.8598     -0.003120\n",
       "4   2010/1/8    66.0013      0.002146\n",
       "5  2010/1/11    66.0270      0.000389"
      ]
     },
     "execution_count": 11,
     "metadata": {},
     "output_type": "execute_result"
    }
   ],
   "source": [
    "# standard imports\n",
    "import pandas as pd\n",
    "import numpy as np\n",
    "import pyfolio as pf\n",
    "from IPython.core.interactiveshell import InteractiveShell\n",
    "InteractiveShell.ast_node_interactivity = \"all\"\n",
    "pd.set_option('display.max_rows', None)\n",
    "\n",
    "# Fetching the ITC stock data from yfinance library for the past 10 years\n",
    "ITC = pd.read_csv('ITC.NS.csv')\n",
    "\n",
    "daily_data = ITC.copy().round(4)\n",
    "\n",
    "# Calculating daily Log returns\n",
    "daily_data['daily_return']= np.log(daily_data['Adj Close']/daily_data['Adj Close'].shift())\n",
    "daily_data.dropna(inplace=True)\n",
    "\n",
    "# Taking a peek at the fetched data\n",
    "daily_data.head()"
   ]
  },
  {
   "cell_type": "markdown",
   "id": "55ef642f",
   "metadata": {},
   "source": [
    "Now that we have the daily log returns for ITC. **Please visualize both the returns and their distribution according to the diagrams below.**"
   ]
  },
  {
   "cell_type": "markdown",
   "id": "8215a937",
   "metadata": {},
   "source": [
    "<img style=\"float: center;width:508px;height:370px\" src=\"figs/actual-values-of-daily-log-returns-over-time-1.png\">\n",
    "<img style=\"float: center;width:469px;height:371px\" src=\"figs/distribution-of-daily-log-returns.png\">"
   ]
  },
  {
   "cell_type": "code",
   "execution_count": 12,
   "id": "7acc75f1",
   "metadata": {},
   "outputs": [
    {
     "data": {
      "text/plain": [
       "<Figure size 1200x500 with 0 Axes>"
      ]
     },
     "execution_count": 12,
     "metadata": {},
     "output_type": "execute_result"
    },
    {
     "data": {
      "text/plain": [
       "<Axes: >"
      ]
     },
     "execution_count": 12,
     "metadata": {},
     "output_type": "execute_result"
    },
    {
     "data": {
      "text/plain": [
       "<Axes: xlabel='None', ylabel='daily_return'>"
      ]
     },
     "execution_count": 12,
     "metadata": {},
     "output_type": "execute_result"
    },
    {
     "data": {
      "text/plain": [
       "Text(0.5, 0, 'Date')"
      ]
     },
     "execution_count": 12,
     "metadata": {},
     "output_type": "execute_result"
    },
    {
     "data": {
      "text/plain": [
       "Text(0, 0.5, 'Daily Log Return')"
      ]
     },
     "execution_count": 12,
     "metadata": {},
     "output_type": "execute_result"
    },
    {
     "data": {
      "text/plain": [
       "Text(0.5, 1.0, 'Actual value of Daily Log Returns Over Time')"
      ]
     },
     "execution_count": 12,
     "metadata": {},
     "output_type": "execute_result"
    },
    {
     "data": {
      "text/plain": [
       "<Axes: >"
      ]
     },
     "execution_count": 12,
     "metadata": {},
     "output_type": "execute_result"
    },
    {
     "data": {
      "text/plain": [
       "<Axes: xlabel='daily_return', ylabel='Count'>"
      ]
     },
     "execution_count": 12,
     "metadata": {},
     "output_type": "execute_result"
    },
    {
     "data": {
      "text/plain": [
       "Text(0.5, 0, 'Daily Log Return')"
      ]
     },
     "execution_count": 12,
     "metadata": {},
     "output_type": "execute_result"
    },
    {
     "data": {
      "text/plain": [
       "Text(0, 0.5, 'Frequency')"
      ]
     },
     "execution_count": 12,
     "metadata": {},
     "output_type": "execute_result"
    },
    {
     "data": {
      "text/plain": [
       "Text(0.5, 1.0, 'Distribution of Daily Log Returns')"
      ]
     },
     "execution_count": 12,
     "metadata": {},
     "output_type": "execute_result"
    },
    {
     "data": {
      "image/png": "[encoded data removed]",
      "text/plain": [
       "<Figure size 1200x500 with 2 Axes>"
      ]
     },
     "metadata": {},
     "output_type": "display_data"
    }
   ],
   "source": [
    "# modify this cell\n",
    "\n",
    "# Visualizing the daily log returns\n",
    "sns.set(style=\"white\", palette=\"muted\", color_codes=True)\n",
    "plt.figure(figsize=(12,5))\n",
    "\n",
    "plt.subplot(1,2,1)\n",
    "\n",
    "# Plot a simple histogram with binsize determined automatically.\n",
    "# Please add the labels of the x, y axes and titles in the figure.\n",
    "# Tips: sns.lineplot(daily_data.index,daily_data['daily_return'], color=\"r\")\n",
    "#\n",
    "# YOUR CODE HERE\n",
    "sns.lineplot(x=daily_data.index, y=daily_data['daily_return'], color=\"r\")\n",
    "# label and title\n",
    "plt.xlabel('Date')\n",
    "plt.ylabel('Daily Log Return')\n",
    "plt.title('Actual value of Daily Log Returns Over Time')\n",
    "#\n",
    "\n",
    "plt.subplot(1,2,2)\n",
    "\n",
    "# Plot a simple histogram with binsize determined automatically.\n",
    "# Please add the labels of the x, y axes and titles in the figure.\n",
    "# Tips: sns.distplot(daily_data['daily_return'], kde=False, color=\"r\")\n",
    "\n",
    "#\n",
    "# YOUR CODE HERE\n",
    "# 50 bin and kde is set to false\n",
    "sns.histplot(daily_data['daily_return'], bins=50, kde=False, color=\"r\")\n",
    "# label and title\n",
    "plt.xlabel('Daily Log Return')\n",
    "plt.ylabel('Frequency')\n",
    "plt.title('Distribution of Daily Log Returns')\n",
    "plt.tight_layout()\n",
    "plt.show()\n",
    "#\n",
    "\n",
    "# Remember to use the command to visualize.\n",
    "# You can use \"plt.tight_layout()\" to make the layout more beautiful. "
   ]
  },
  {
   "cell_type": "markdown",
   "id": "c7f1b072",
   "metadata": {},
   "source": [
    "We can observe that in the ten years we are using, the daily return for ITC is centred around 0. However, there have been multiple occasions when it has breached the five percent mark on the upside and even a negative ten percent mark on the downside."
   ]
  },
  {
   "cell_type": "markdown",
   "id": "ebc315a2",
   "metadata": {},
   "source": [
    "This is what is responsible for the higher kurtosis or the fat-tails which is not the case with a normal distribution. The plot of the distribution of daily returns also looks leptokurtik."
   ]
  },
  {
   "cell_type": "markdown",
   "id": "931c7b06",
   "metadata": {},
   "source": [
    "## 3.3 More visualization exercises"
   ]
  },
  {
   "cell_type": "markdown",
   "id": "8bc99e7c",
   "metadata": {},
   "source": [
    "A continuous random variable is a random variable that represents an infinite number of outcomes. If we sample a continuous random variable $X$, the obtained samples may not cover the whole sample space. Since the sample space of a continuous distribution has infinite number of observations, to estimate the exact distribution of the random variable we need infinite number of samples. Since this is not practically possible, we can use parameterized continuous distributions to approximate the observed distribution."
   ]
  },
  {
   "cell_type": "markdown",
   "id": "954d6133",
   "metadata": {},
   "source": [
    "In this assignment we will use the [hourly weather dataset](https://www.kaggle.com/selfishgene/historical-hourly-weather-data/data) and look at the temperature recording for the city of Detroit. We will use continuous distributions we have studied to approximate the observed distributions."
   ]
  },
  {
   "cell_type": "markdown",
   "id": "90015b82",
   "metadata": {},
   "source": [
    "**Useful functions:**\n",
    "The module **scipy.stats** has an extensive number of probability distributions and useful statistical function definitions."
   ]
  },
  {
   "cell_type": "markdown",
   "id": "ad993e8f",
   "metadata": {},
   "source": [
    "For plotting the probability density of the data use the  function in the library **matplotlib.pyplot** and set the argument **density=True**. How this function estimates the probability is outlined in matplotlib library documentation."
   ]
  },
  {
   "cell_type": "code",
   "execution_count": 13,
   "id": "ed768a95",
   "metadata": {},
   "outputs": [
    {
     "data": {
      "text/plain": [
       "<Figure size 1000x600 with 0 Axes>"
      ]
     },
     "execution_count": 13,
     "metadata": {},
     "output_type": "execute_result"
    },
    {
     "data": {
      "text/plain": [
       "<Axes: xlabel='Detroit', ylabel='Density'>"
      ]
     },
     "execution_count": 13,
     "metadata": {},
     "output_type": "execute_result"
    },
    {
     "data": {
      "text/plain": [
       "Text(0.5, 0, 'Temperature (K)')"
      ]
     },
     "execution_count": 13,
     "metadata": {},
     "output_type": "execute_result"
    },
    {
     "data": {
      "text/plain": [
       "Text(0, 0.5, 'Density')"
      ]
     },
     "execution_count": 13,
     "metadata": {},
     "output_type": "execute_result"
    },
    {
     "data": {
      "text/plain": [
       "Text(0.5, 1.0, 'Histogram of Detroit Temperature')"
      ]
     },
     "execution_count": 13,
     "metadata": {},
     "output_type": "execute_result"
    },
    {
     "data": {
      "image/png": "[encoded data removed]",
      "text/plain": [
       "<Figure size 1000x600 with 1 Axes>"
      ]
     },
     "metadata": {},
     "output_type": "display_data"
    }
   ],
   "source": [
    "# modify this cell\n",
    "\n",
    "# Please plot a histogram with 100 bins using all the samples.\n",
    "# Please add the labels of the x, y axes and titles in the figure.\n",
    "\n",
    "#\n",
    "# YOUR CODE HERE\n",
    "import matplotlib.pyplot as plt\n",
    "import seaborn as sns\n",
    "from scipy.stats import norm\n",
    "# load the data\n",
    "data = pd.read_csv('temperature.csv')\n",
    "# extract the data of temperature\n",
    "detroit_temperature = data['Detroit'].dropna()\n",
    "# plot \n",
    "plt.figure(figsize=(10, 6))\n",
    "sns.histplot(detroit_temperature, bins=100, kde=False, color='blue', stat='density')\n",
    "# title and flag\n",
    "plt.xlabel('Temperature (K)')\n",
    "plt.ylabel('Density')\n",
    "plt.title('Histogram of Detroit Temperature')\n",
    "plt.show()\n",
    "\n",
    "#"
   ]
  },
  {
   "cell_type": "markdown",
   "id": "9c025d30",
   "metadata": {},
   "source": [
    "If you plot it correctly, you will get a histogram similar to the one below."
   ]
  },
  {
   "cell_type": "markdown",
   "id": "096fce99",
   "metadata": {},
   "source": [
    "<img style=\"float: left;width:393px;height:305px\" src=\"figs/histogram.png\">"
   ]
  },
  {
   "cell_type": "markdown",
   "id": "1d80220c",
   "metadata": {},
   "source": [
    "Additional credits: Create more plot from the temperature recording of different cities. For example, the 7 Day Moving Average Plot, the temparature variation of different cities in a single figure, the visualization of humidity, pressure and temperature of Detroit in a single figure. **Insert new cells for these figures**"
   ]
  },
  {
   "cell_type": "code",
   "execution_count": 14,
   "id": "61a08093",
   "metadata": {},
   "outputs": [],
   "source": [
    "# load the data\n",
    "temperature_data = pd.read_csv('temperature.csv', parse_dates=['datetime'], index_col='datetime')\n"
   ]
  },
  {
   "cell_type": "code",
   "execution_count": 15,
   "id": "265f0558",
   "metadata": {},
   "outputs": [
    {
     "data": {
      "text/plain": [
       "<Figure size 1000x600 with 0 Axes>"
      ]
     },
     "execution_count": 15,
     "metadata": {},
     "output_type": "execute_result"
    },
    {
     "data": {
      "text/plain": [
       "[<matplotlib.lines.Line2D at 0x1fc28a4bf70>]"
      ]
     },
     "execution_count": 15,
     "metadata": {},
     "output_type": "execute_result"
    },
    {
     "data": {
      "text/plain": [
       "Text(0.5, 0, 'Date')"
      ]
     },
     "execution_count": 15,
     "metadata": {},
     "output_type": "execute_result"
    },
    {
     "data": {
      "text/plain": [
       "Text(0, 0.5, 'Temperature (°C)')"
      ]
     },
     "execution_count": 15,
     "metadata": {},
     "output_type": "execute_result"
    },
    {
     "data": {
      "text/plain": [
       "Text(0.5, 1.0, '7 Day Moving Average of Detroit Temperature')"
      ]
     },
     "execution_count": 15,
     "metadata": {},
     "output_type": "execute_result"
    },
    {
     "data": {
      "text/plain": [
       "<matplotlib.legend.Legend at 0x1fc284d1460>"
      ]
     },
     "execution_count": 15,
     "metadata": {},
     "output_type": "execute_result"
    },
    {
     "data": {
      "image/png": "[encoded data removed]",
      "text/plain": [
       "<Figure size 1000x600 with 1 Axes>"
      ]
     },
     "metadata": {},
     "output_type": "display_data"
    }
   ],
   "source": [
    "# calculate the moving average of temperature in 7 days\n",
    "detroit_temp_ma = temperature_data['Detroit'].rolling(window=7).mean()\n",
    "# plot \n",
    "plt.figure(figsize=(10, 6))\n",
    "plt.plot(detroit_temp_ma, label='7 Day Moving Average')\n",
    "plt.xlabel('Date')\n",
    "plt.ylabel('Temperature (°C)')\n",
    "plt.title('7 Day Moving Average of Detroit Temperature')\n",
    "plt.legend()\n",
    "plt.show()"
   ]
  }
 ],
 "metadata": {
  "kernelspec": {
   "display_name": "pe",
   "language": "python",
   "name": "python3"
  },
  "language_info": {
   "codemirror_mode": {
    "name": "ipython",
    "version": 3
   },
   "file_extension": ".py",
   "mimetype": "text/x-python",
   "name": "python",
   "nbconvert_exporter": "python",
   "pygments_lexer": "ipython3",
   "version": "3.8.19"
  }
 },
 "nbformat": 4,
 "nbformat_minor": 5
}
